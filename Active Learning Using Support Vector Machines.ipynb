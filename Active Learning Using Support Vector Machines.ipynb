{
 "cells": [
  {
   "cell_type": "code",
   "execution_count": 28,
   "metadata": {},
   "outputs": [],
   "source": [
    "import pandas as pd\n",
    "import numpy as np \n",
    "from sklearn.model_selection import StratifiedKFold\n",
    "from sklearn.model_selection import GridSearchCV\n",
    "from sklearn import svm\n",
    "from sklearn.metrics import accuracy_score"
   ]
  },
  {
   "cell_type": "markdown",
   "metadata": {},
   "source": [
    "### 2)a. Download the banknote authentication Data Set from: https://archive.ics.uci.edu/ml/datasets/banknote+authentication. Choose 472 data points randomly as the test set, and the remaining 900 points as the training set. This is a binary classification problem."
   ]
  },
  {
   "cell_type": "code",
   "execution_count": 29,
   "metadata": {},
   "outputs": [],
   "source": [
    "df=pd.read_csv('C:\\\\Users\\\\milon\\\\Desktop\\\\bank.csv')"
   ]
  },
  {
   "cell_type": "code",
   "execution_count": 30,
   "metadata": {},
   "outputs": [],
   "source": [
    "#df"
   ]
  },
  {
   "cell_type": "code",
   "execution_count": 31,
   "metadata": {},
   "outputs": [],
   "source": [
    "test=df.sample(472)\n",
    "train=df.sample(900)"
   ]
  },
  {
   "cell_type": "code",
   "execution_count": 32,
   "metadata": {},
   "outputs": [],
   "source": [
    "y_test=test.iloc[:,-1:]\n",
    "x_test=test.iloc[:,:-1]\n",
    "y_train=train.iloc[:,-1:]\n",
    "x_train=train.iloc[:,:-1]\n",
    "x_train=x_train.reset_index(drop=True)\n",
    "y_train=y_train.reset_index(drop=True)\n",
    "x_test=x_test.reset_index(drop=True)\n",
    "y_test=y_test.reset_index(drop=True)"
   ]
  },
  {
   "cell_type": "markdown",
   "metadata": {},
   "source": [
    "### 2)b.i. Train a SVM with a pool of 10 randomly selected data points from the training set using linear kernel and L1 penalty. Select the penalty parameter using 10-fold cross validation.2 Repeat this process by adding 10 other randomly selected data points to the pool, until you use all the 900 points.Calculate the test error for each SVM. You will have 90 SVMs that were trained using 10,20, 30, ... , 900 data points and their 90 test errors.\n",
    "## Passive Learning."
   ]
  },
  {
   "cell_type": "code",
   "execution_count": 33,
   "metadata": {},
   "outputs": [],
   "source": [
    "avg1=pd.DataFrame()\n",
    "\n",
    "for x in range(0,50):\n",
    "    acs=[]\n",
    "    x_tr=pd.DataFrame()\n",
    "    y_tr=pd.DataFrame()\n",
    "    skf=StratifiedKFold(n_splits=90)\n",
    "    cv=5\n",
    "    for train_index, tr_index_10 in skf.split(x_train, y_train):\n",
    "            #print(type(x_tr))\n",
    "            x_tr=pd.concat([x_tr,x_train.iloc[tr_index_10,:]])\n",
    "            #print(x_tr)\n",
    "            y_tr=pd.concat([y_tr,y_train.iloc[tr_index_10]])\n",
    "            #print(y_tr)\n",
    "            parameters = [{'C': [0.1,0.001,1, 10, 100, 1000],'max_iter':[2000]} ]\n",
    "            model = GridSearchCV(svm.LinearSVC(penalty='l1',dual=False),parameters,cv=cv)\n",
    "            cv=10\n",
    "            model.fit(x_tr, y_tr.values.ravel())\n",
    "    \n",
    "            #calculating train parameters\n",
    "            pred_y = model.predict(x_test)\n",
    "            accu=1-(accuracy_score(y_test, pred_y))    #computing the error\n",
    "            acs.append(accu) \n",
    "    aa1=pd.Series(acs)\n",
    "    avg1.insert(loc=x,column=x,value=aa1)\n",
    "            \n"
   ]
  },
  {
   "cell_type": "code",
   "execution_count": 45,
   "metadata": {},
   "outputs": [],
   "source": [
    "avg_50=avg1.mean(axis=1)\n",
    "#print(avg_50)"
   ]
  },
  {
   "cell_type": "markdown",
   "metadata": {},
   "source": [
    "### 2)b.ii. Train a SVM with a pool of 10 randomly selected data points from the training set using linear kernel and L1 penalty. Select the parameters of the SVM with 10-fold cross validation. Choose the 10 closest data points in the training set to the hyperplane of the SVM4 and add them to the pool. Train a new SVM using the pool.Repeat this process until all training data is used. You will have 90 SVMs that were trained using 10, 20, 30,..., 900 data points and their 90 test errors.\n",
    "## Active learning."
   ]
  },
  {
   "cell_type": "code",
   "execution_count": 42,
   "metadata": {},
   "outputs": [],
   "source": [
    "df=pd.read_csv('C:\\\\Users\\\\milon\\\\Desktop\\\\bank.csv')\n",
    "test=df.sample(472)\n",
    "train=df.sample(900)\n",
    "avg=pd.DataFrame()\n",
    "\n",
    "for x in range(0,50):\n",
    "    y_test=test.iloc[:,-1:]\n",
    "    x_test=test.iloc[:,:-1]\n",
    "    y_train=train.iloc[:,-1:]\n",
    "    x_train=train.iloc[:,:-1]\n",
    "    x_train=x_train.reset_index(drop=True)\n",
    "    y_train=y_train.reset_index(drop=True)\n",
    "    x_test=x_test.reset_index(drop=True)\n",
    "    y_test=y_test.reset_index(drop=True)\n",
    "    acs1=[]\n",
    "    x_tr=pd.DataFrame()\n",
    "    y_tr=pd.DataFrame()\n",
    "    \n",
    "    skf=StratifiedKFold(n_splits=90)\n",
    "    cv=5\n",
    "    for train_index, tr_index_10 in skf.split(x_train, y_train):\n",
    "        #print(tr_index_10)\n",
    "        x_tr=x_train.iloc[tr_index_10,:]\n",
    "        y_tr=y_train.loc[tr_index_10]\n",
    "        break\n",
    "        \n",
    "    for i in range(0,90):\n",
    "        \n",
    "        x_test=x_test.reset_index(drop=True)\n",
    "        y_test=y_test.reset_index(drop=True)\n",
    "        parameters = [{'C': [0.1,0.001,1, 10, 100, 1000],'max_iter':[2000]} ]\n",
    "        model = GridSearchCV(svm.LinearSVC(penalty='l1',dual=False),parameters,cv=cv)\n",
    "        cv=10\n",
    "        model.fit(x_tr, y_tr)           \n",
    "        #indexes=list(pd.DataFrame(model.decision_function(x_train)).sort_values([0]).index)\n",
    "        \n",
    "        x_train=x_train.reset_index(drop=True)\n",
    "        y_train=y_train.reset_index(drop=True)\n",
    "\n",
    "        ind=model.decision_function(x_train)\n",
    "        ind_df=pd.DataFrame(ind)\n",
    "        #print(x_tr)\n",
    "        \n",
    "        s=ind_df.sort_values(0)\n",
    "        s=s.iloc[0:10,:]\n",
    "        s_index=s.index\n",
    "        \n",
    "        #print(s_index)\n",
    "        xtemp=x_train.iloc[s_index,:]\n",
    "        ytemp=y_train.iloc[s_index,:]\n",
    "        \n",
    "        x_train=x_train.drop(index=s_index)\n",
    "        y_train=y_train.drop(index=s_index)\n",
    "        \n",
    "        pred_y = model.predict(x_test)\n",
    "        a=1-(accuracy_score(y_test, pred_y)) #computing the error\n",
    "        acs1.append(a)\n",
    "        \n",
    "        x_tr=pd.concat([x_tr,xtemp],axis=0)\n",
    "        y_tr=pd.concat([y_tr,ytemp],axis=0)\n",
    "  \n",
    "    avg=pd.concat([avg,pd.DataFrame(acs1)],axis=1)       \n",
    "        \n",
    "        "
   ]
  },
  {
   "cell_type": "code",
   "execution_count": 43,
   "metadata": {},
   "outputs": [],
   "source": [
    "avg_50=avg.mean(axis=1)"
   ]
  },
  {
   "cell_type": "markdown",
   "metadata": {},
   "source": [
    "### 2)c. Average the 50 test errors for each of the incrementally trained 90 SVMs in 2(b)i and 2(b)ii. By doing so, you are performing a Monte Carlo simulation. Plot average test error versus number of training instances for both active and passive learners on the same figure and report your conclusions. Here, you are actually obtaining a learning curve by Monte-Carlo simulation."
   ]
  },
  {
   "cell_type": "code",
   "execution_count": 56,
   "metadata": {},
   "outputs": [
    {
     "data": {
      "text/plain": [
       "Text(0,0.5,'Average Test Error')"
      ]
     },
     "execution_count": 56,
     "metadata": {},
     "output_type": "execute_result"
    },
    {
     "data": {
      "image/png": "[encoded data removed]",
      "text/plain": [
       "<Figure size 432x288 with 1 Axes>"
      ]
     },
     "metadata": {},
     "output_type": "display_data"
    }
   ],
   "source": [
    "p = pd.DataFrame({'Active Learning':avg1_50, 'Passive Learning':avg_50})\n",
    "a=p.plot(style='--',title='Learning Curve By Monte Carlo Simulation')\n",
    "a.set_xlabel(\"Number of Training Instances\")\n",
    "a.set_ylabel(\"Average Test Error\")"
   ]
  },
  {
   "cell_type": "markdown",
   "metadata": {},
   "source": [
    "Conclusion <br>\n",
    "We can see that active learning has a lesser average test error rate than passive learning.\n"
   ]
  }
 ],
 "metadata": {
  "kernelspec": {
   "display_name": "Python 3",
   "language": "python",
   "name": "python3"
  },
  "language_info": {
   "codemirror_mode": {
    "name": "ipython",
    "version": 3
   },
   "file_extension": ".py",
   "mimetype": "text/x-python",
   "name": "python",
   "nbconvert_exporter": "python",
   "pygments_lexer": "ipython3",
   "version": "3.6.5"
  }
 },
 "nbformat": 4,
 "nbformat_minor": 2
}
